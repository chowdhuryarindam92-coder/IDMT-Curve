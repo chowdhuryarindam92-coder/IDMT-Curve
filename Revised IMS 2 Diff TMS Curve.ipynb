{
  "metadata": {
    "kernelspec": {
      "name": "xpython",
      "display_name": "Python 3.13 (XPython)",
      "language": "python"
    },
    "language_info": {
      "file_extension": ".py",
      "mimetype": "text/x-python",
      "name": "python",
      "version": "3.13.1"
    }
  },
  "nbformat_minor": 5,
  "nbformat": 4,
  "cells": [
    {
      "id": "bfcbdb52-ed95-4ec0-be02-0ae137c61b4e",
      "cell_type": "code",
      "source": "\nimport numpy as np\nimport matplotlib.pyplot as plt\nfrom matplotlib.ticker import ScalarFormatter\nimport ipywidgets as widgets\nfrom IPython.display import display, Markdown\n\n# IEC 60255-151 curve constants\ncurve_constants = {\n    'NI': {'A': 0.14, 'B': 0.02},\n    'VI': {'A': 13.5, 'B': 1},\n    'EI': {'A': 80, 'B': 2}\n}\n\n# Plotting function with readable axis ticks\ndef plot_idmt_curves(TMS1, Ip1, If1, curve1, TMS2, Ip2, If2, curve2):\n    fault_currents = np.logspace(np.log10(0.1), np.log10(1000), 500)\n    plt.figure(figsize=(10, 6))\n\n    # First curve\n    A1 = curve_constants[curve1]['A']\n    B1 = curve_constants[curve1]['B']\n    if_ip_ratios1 = fault_currents / Ip1\n    trip_times1 = A1 * TMS1 / ((if_ip_ratios1) ** B1 - 1)\n    plt.plot(fault_currents, trip_times1, label=f\"{curve1} Curve (Set 1)\", linestyle='-', color='blue')\n\n    try:\n        if_ip_ratio1 = If1 / Ip1\n        trip_time1 = A1 * TMS1 / ((if_ip_ratio1) ** B1 - 1)\n        display(Markdown(f\"**{curve1} Curve (Set 1):** For If = {If1} A, Ip = {Ip1} A, TMS = {TMS1}, Trip Time = {trip_time1:.4f} seconds\"))\n    except ZeroDivisionError:\n        display(Markdown(f\"**{curve1} Curve (Set 1):** Invalid If/Ip ratio for trip time calculation.\"))\n\n    # Second curve\n    A2 = curve_constants[curve2]['A']\n    B2 = curve_constants[curve2]['B']\n    if_ip_ratios2 = fault_currents / Ip2\n    trip_times2 = A2 * TMS2 / ((if_ip_ratios2) ** B2 - 1)\n    plt.plot(fault_currents, trip_times2, label=f\"{curve2} Curve (Set 2)\", linestyle='--', color='red')\n\n    try:\n        if_ip_ratio2 = If2 / Ip2\n        trip_time2 = A2 * TMS2 / ((if_ip_ratio2) ** B2 - 1)\n        display(Markdown(f\"**{curve2} Curve (Set 2):** For If = {If2} A, Ip = {Ip2} A, TMS = {TMS2}, Trip Time = {trip_time2:.4f} seconds\"))\n    except ZeroDivisionError:\n        display(Markdown(f\"**{curve2} Curve (Set 2):** Invalid If/Ip ratio for trip time calculation.\"))\n\n    plt.axvline(x=If1, color='gray', linestyle='--', label=f\"If1 = {If1} A\")\n    plt.axvline(x=If2, color='black', linestyle='--', label=f\"If2 = {If2} A\")\n    plt.title(\"IDMT Relay Trip Time Curves - Dual Curve Comparison\")\n    plt.xlabel(\"Fault Current If (Amps)\")\n    plt.ylabel(\"Trip Time (Seconds)\")\n    plt.grid(True, which='both', linestyle='--', linewidth=0.5)\n    plt.legend()\n    plt.xscale('log')\n    plt.yscale('log')\n\n    # Set readable tick labels\n    ax = plt.gca()\n    ax.set_xticks([0.1, 0.5, 1, 5, 10, 50, 100, 500, 1000])\n    ax.get_xaxis().set_major_formatter(ScalarFormatter())\n    ax.set_yticks([0.01, 0.1, 0.5, 1, 5, 10, 50, 100])\n    ax.get_yaxis().set_major_formatter(ScalarFormatter())\n\n    plt.xlim([0.1, 1000])\n    plt.ylim([0.01, 100])\n    plt.tight_layout()\n    plt.show()\n\n# Define sliders and dropdowns for both curves\nTMS1_slider = widgets.FloatSlider(value=0.1, min=0.1, max=20.0, step=0.1, description='TMS1:', continuous_update=False)\nIp1_slider = widgets.FloatSlider(value=1.0, min=0.1, max=10.0, step=0.1, description='Ip1:', continuous_update=False)\nIf1_slider = widgets.FloatSlider(value=2.0, min=0.1, max=10.0, step=0.1, description='If1:', continuous_update=False)\ncurve1_dropdown = widgets.Dropdown(options=['NI', 'VI', 'EI'], value='NI', description='Curve 1:')\n\nTMS2_slider = widgets.FloatSlider(value=0.2, min=0.1, max=20.0, step=0.1, description='TMS2:', continuous_update=False)\nIp2_slider = widgets.FloatSlider(value=1.5, min=0.1, max=10.0, step=0.1, description='Ip2:', continuous_update=False)\nIf2_slider = widgets.FloatSlider(value=3.0, min=0.1, max=10.0, step=0.1, description='If2:', continuous_update=False)\ncurve2_dropdown = widgets.Dropdown(options=['NI', 'VI', 'EI'], value='VI', description='Curve 2:')\n\n# Display interactive widgets\nui = widgets.VBox([\n    widgets.HBox([TMS1_slider, Ip1_slider, If1_slider, curve1_dropdown]),\n    widgets.HBox([TMS2_slider, Ip2_slider, If2_slider, curve2_dropdown])\n])\nout = widgets.interactive_output(\n    plot_idmt_curves,\n    {\n        'TMS1': TMS1_slider, 'Ip1': Ip1_slider, 'If1': If1_slider, 'curve1': curve1_dropdown,\n        'TMS2': TMS2_slider, 'Ip2': Ip2_slider, 'If2': If2_slider, 'curve2': curve2_dropdown\n    }\n)\ndisplay(ui, out)\n",
      "metadata": {
        "trusted": true
      },
      "outputs": [
        {
          "output_type": "display_data",
          "data": {
            "application/vnd.jupyter.widget-view+json": {
              "model_id": "4405d1cfc0ff491a857271264db2585d",
              "version_major": 2,
              "version_minor": 0
            },
            "text/plain": "VBox(children=(HBox(children=(FloatSlider(value=0.1, continuous_update=False, description='TMS1:', max=20.0, m…"
          },
          "metadata": {}
        },
        {
          "output_type": "display_data",
          "data": {
            "application/vnd.jupyter.widget-view+json": {
              "model_id": "28b01fc5c7084e25a7ffe7fa6a9e0942",
              "version_major": 2,
              "version_minor": 0
            },
            "text/plain": "Output()"
          },
          "metadata": {}
        }
      ],
      "execution_count": 4
    },
    {
      "id": "fc69de4f-b836-4043-8cb1-311b462c32be",
      "cell_type": "code",
      "source": "",
      "metadata": {
        "trusted": true
      },
      "outputs": [],
      "execution_count": null
    }
  ]
}